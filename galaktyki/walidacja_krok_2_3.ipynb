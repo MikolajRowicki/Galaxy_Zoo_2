{
 "cells": [
  {
   "cell_type": "markdown",
   "id": "9b8ee10428e8f99a",
   "metadata": {
    "collapsed": false
   },
   "source": [
    "# Budowa modelu - część 2\n"
   ]
  },
  {
   "cell_type": "markdown",
   "id": "d2874d95",
   "metadata": {},
   "source": [
    "Poprawki wprowadzone po uwzględnieniu uwag zespołu walidacji zostały dodane kolorem <font color=\"green\">zielonym</font>.\n",
    "\n",
    "Komentarze od zespołu walidacyjnego zostały dodane kolorem <font color=\"red\">czerwonym</font>"
   ]
  },
  {
   "cell_type": "code",
   "execution_count": 1,
   "id": "initial_id",
   "metadata": {
    "ExecuteTime": {
     "end_time": "2024-06-02T09:56:19.873088800Z",
     "start_time": "2024-06-02T09:56:19.634858500Z"
    },
    "collapsed": true
   },
   "outputs": [
    {
     "name": "stderr",
     "output_type": "stream",
     "text": [
      "c:\\Users\\jakub\\anaconda3\\lib\\site-packages\\pandas\\core\\computation\\expressions.py:21: UserWarning: Pandas requires version '2.8.4' or newer of 'numexpr' (version '2.8.1' currently installed).\n",
      "  from pandas.core.computation.check import NUMEXPR_INSTALLED\n",
      "c:\\Users\\jakub\\anaconda3\\lib\\site-packages\\pandas\\core\\arrays\\masked.py:60: UserWarning: Pandas requires version '1.3.6' or newer of 'bottleneck' (version '1.3.4' currently installed).\n",
      "  from pandas.core import (\n",
      "[nltk_data] Downloading package stopwords to\n",
      "[nltk_data]     C:\\Users\\jakub\\AppData\\Roaming\\nltk_data...\n",
      "[nltk_data]   Package stopwords is already up-to-date!\n",
      "[nltk_data] Downloading package punkt to\n",
      "[nltk_data]     C:\\Users\\jakub\\AppData\\Roaming\\nltk_data...\n",
      "[nltk_data]   Package punkt is already up-to-date!\n",
      "[nltk_data] Downloading package wordnet to\n",
      "[nltk_data]     C:\\Users\\jakub\\AppData\\Roaming\\nltk_data...\n",
      "[nltk_data]   Package wordnet is already up-to-date!\n"
     ]
    },
    {
     "data": {
      "text/plain": [
       "True"
      ]
     },
     "execution_count": 1,
     "metadata": {},
     "output_type": "execute_result"
    }
   ],
   "source": [
    "import warnings\n",
    "import numpy as np\n",
    "import pandas as pd\n",
    "import matplotlib.pyplot as plt\n",
    "from nltk.tokenize import word_tokenize\n",
    "from nltk.corpus import stopwords\n",
    "from nltk.stem import WordNetLemmatizer\n",
    "from sklearn.feature_extraction.text import TfidfVectorizer, CountVectorizer\n",
    "from nltk.corpus import wordnet\n",
    "from sklearn.cluster import KMeans\n",
    "from sklearn.metrics import silhouette_score\n",
    "from sklearn.decomposition import PCA\n",
    "from sklearn.preprocessing import StandardScaler\n",
    "from textblob import TextBlob\n",
    "import nltk\n",
    "import gensim.downloader as api\n",
    "\n",
    "# from transformers import BertTokenizer, BertModel\n",
    "# import torch\n",
    "# from tqdm import tqdm\n",
    "\n",
    "nltk.download('stopwords')\n",
    "nltk.download('punkt')\n",
    "nltk.download('wordnet')"
   ]
  },
  {
   "cell_type": "markdown",
   "id": "f56bb44123101fef",
   "metadata": {
    "collapsed": false
   },
   "source": [
    "## Wczytanie danych\n",
    "<font color='green'>Uwaga dla zespołu walidacyjnego - przy każdej operacji dla danych treningowych został dodany zakomentowany kod dla danych walidacyjnych. Wystarczy odkomentować odpowiednią linię, aby zastosować operację na danych walidacyjnych.</font>\n",
    "\n",
    "Załadujmy i przekształcmy dane zgodnie z krokiem pierwszym budowy."
   ]
  },
  {
   "cell_type": "code",
   "execution_count": 2,
   "id": "72365c4a1a8fdec2",
   "metadata": {
    "ExecuteTime": {
     "end_time": "2024-06-02T09:56:19.957175Z",
     "start_time": "2024-06-02T09:56:19.877321700Z"
    },
    "collapsed": false
   },
   "outputs": [],
   "source": [
    "df_train = pd.read_csv('data\\\\X_train.csv')\n",
    "df_valid = pd.read_csv('data\\\\X_valid.csv')"
   ]
  },
  {
   "cell_type": "code",
   "execution_count": 3,
   "id": "d95e92d9717929e4",
   "metadata": {
    "ExecuteTime": {
     "end_time": "2024-06-02T09:56:19.989073500Z",
     "start_time": "2024-06-02T09:56:19.944435900Z"
    },
    "collapsed": false
   },
   "outputs": [],
   "source": [
    "# obróbka danych z kroku 1\n",
    "lemmatizer = WordNetLemmatizer()\n",
    "\n",
    "def get_wordnet_pos(word):\n",
    "    \"\"\"Mapowanie tagów części mowy z biblioteki NLTK na format używany przez WordNetLemmatizer\"\"\"\n",
    "    tag = nltk.pos_tag([word])[0][1][0].upper()\n",
    "    tag_dict = {\n",
    "        \"J\": wordnet.ADJ,\n",
    "        \"N\": wordnet.NOUN,\n",
    "        \"V\": wordnet.VERB,\n",
    "        \"R\": wordnet.ADV\n",
    "    }\n",
    "    return tag_dict.get(tag, wordnet.NOUN)\n",
    "\n",
    "def lemmatize_tokens(tokens):\n",
    "    \"\"\"Lematyzacja tokenów\"\"\"\n",
    "    tokens = word_tokenize(tokens)\n",
    "    lemmatized_tokens = [lemmatizer.lemmatize(token, get_wordnet_pos(token)) for token in tokens]\n",
    "    return ' '.join(lemmatized_tokens)\n",
    "\n",
    "def clean_text(text):\n",
    "    stopwords_set = set(stopwords.words('english'))\n",
    "    tokens = word_tokenize(text.lower())\n",
    "    words = [word for word in tokens if word.isalpha() and word not in stopwords_set]\n",
    "    return words\n",
    "\n",
    "def preprocess_data(df):\n",
    "    df['Cleaned_text'] = df['Text'].apply(lambda x: ' '.join(clean_text(x)))\n",
    "    df['Lemmatized_text'] = df['Cleaned_text'].apply(lemmatize_tokens)\n",
    "    df = df.drop(columns=['Cleaned_text'])\n",
    "    df = df.drop_duplicates(subset='Lemmatized_text', keep=\"last\")\n",
    "    df = df.reset_index(drop=True)\n",
    "    return df"
   ]
  },
  {
   "cell_type": "markdown",
   "id": "9bac3d18",
   "metadata": {},
   "source": [
    "<font color=\"red\">Dobre podejście z użyciem lematyzacji. </font>"
   ]
  },
  {
   "cell_type": "markdown",
   "id": "87b27ce327740aa2",
   "metadata": {
    "collapsed": false
   },
   "source": [
    "Otrzymujemy w ten sposób dane z 2 kolumnami - 'Lemmatized_text' oraz 'Text'. Pierwsza z nich zawiera tekst po lematyzacji, druga to tekst oryginalny. W dalszej części będziemy pracować na kolumnie 'Lemmatized_text'."
   ]
  },
  {
   "cell_type": "code",
   "execution_count": 4,
   "id": "6c40586329e37a42",
   "metadata": {
    "ExecuteTime": {
     "end_time": "2024-06-02T09:57:59.112589900Z",
     "start_time": "2024-06-02T09:56:19.994811800Z"
    },
    "collapsed": false
   },
   "outputs": [],
   "source": [
    "df_train = preprocess_data(df_train)    # może to potrwać do 2 minut\n",
    "df_valid = preprocess_data(df_valid)"
   ]
  },
  {
   "cell_type": "code",
   "execution_count": 7,
   "id": "9bfe227a951fd4aa",
   "metadata": {
    "ExecuteTime": {
     "end_time": "2024-06-02T09:57:59.154793700Z",
     "start_time": "2024-06-02T09:57:59.114853400Z"
    },
    "collapsed": false
   },
   "outputs": [
    {
     "data": {
      "text/html": [
       "<div>\n",
       "<style scoped>\n",
       "    .dataframe tbody tr th:only-of-type {\n",
       "        vertical-align: middle;\n",
       "    }\n",
       "\n",
       "    .dataframe tbody tr th {\n",
       "        vertical-align: top;\n",
       "    }\n",
       "\n",
       "    .dataframe thead th {\n",
       "        text-align: right;\n",
       "    }\n",
       "</style>\n",
       "<table border=\"1\" class=\"dataframe\">\n",
       "  <thead>\n",
       "    <tr style=\"text-align: right;\">\n",
       "      <th></th>\n",
       "      <th>Text</th>\n",
       "      <th>Lemmatized_text</th>\n",
       "    </tr>\n",
       "  </thead>\n",
       "  <tbody>\n",
       "    <tr>\n",
       "      <th>0</th>\n",
       "      <td>David Blunkett in quotes\\n \\n David Blunkett -...</td>\n",
       "      <td>david blunkett quote david blunkett resign hom...</td>\n",
       "    </tr>\n",
       "    <tr>\n",
       "      <th>1</th>\n",
       "      <td>Benitez issues warning to Gerrard\\n \\n Liverpo...</td>\n",
       "      <td>benitez issue warn gerrard liverpool manager r...</td>\n",
       "    </tr>\n",
       "    <tr>\n",
       "      <th>2</th>\n",
       "      <td>Brookside creator's Channel 4 bid\\n \\n The cre...</td>\n",
       "      <td>brookside creator channel bid creator defunct ...</td>\n",
       "    </tr>\n",
       "    <tr>\n",
       "      <th>3</th>\n",
       "      <td>Brown visits slum on Africa trip\\n \\n Chancell...</td>\n",
       "      <td>brown visit slum africa trip chancellor gordon...</td>\n",
       "    </tr>\n",
       "    <tr>\n",
       "      <th>4</th>\n",
       "      <td>Gritty return for Prince of Persia\\n \\n Still ...</td>\n",
       "      <td>gritty return prince persia still basking rela...</td>\n",
       "    </tr>\n",
       "    <tr>\n",
       "      <th>...</th>\n",
       "      <td>...</td>\n",
       "      <td>...</td>\n",
       "    </tr>\n",
       "    <tr>\n",
       "      <th>654</th>\n",
       "      <td>Confusion over high-definition TV\\n \\n Now tha...</td>\n",
       "      <td>confusion tv critical mass people embrace digi...</td>\n",
       "    </tr>\n",
       "    <tr>\n",
       "      <th>655</th>\n",
       "      <td>Euronext 'poised to make LSE bid'\\n \\n Pan-Eur...</td>\n",
       "      <td>euronext make lse group euronext poise launch ...</td>\n",
       "    </tr>\n",
       "    <tr>\n",
       "      <th>656</th>\n",
       "      <td>Ruddock backs Yapp's credentials\\n \\n Wales co...</td>\n",
       "      <td>ruddock back yapp credential wale coach mike r...</td>\n",
       "    </tr>\n",
       "    <tr>\n",
       "      <th>657</th>\n",
       "      <td>Roddick in talks over new coach\\n \\n Andy Rodd...</td>\n",
       "      <td>roddick talk new coach andy roddick reportedly...</td>\n",
       "    </tr>\n",
       "    <tr>\n",
       "      <th>658</th>\n",
       "      <td>Train strike grips Buenos Aires\\n \\n A strike ...</td>\n",
       "      <td>train strike grip buenos aire strike buenos ai...</td>\n",
       "    </tr>\n",
       "  </tbody>\n",
       "</table>\n",
       "<p>659 rows × 2 columns</p>\n",
       "</div>"
      ],
      "text/plain": [
       "                                                  Text  \\\n",
       "0    David Blunkett in quotes\\n \\n David Blunkett -...   \n",
       "1    Benitez issues warning to Gerrard\\n \\n Liverpo...   \n",
       "2    Brookside creator's Channel 4 bid\\n \\n The cre...   \n",
       "3    Brown visits slum on Africa trip\\n \\n Chancell...   \n",
       "4    Gritty return for Prince of Persia\\n \\n Still ...   \n",
       "..                                                 ...   \n",
       "654  Confusion over high-definition TV\\n \\n Now tha...   \n",
       "655  Euronext 'poised to make LSE bid'\\n \\n Pan-Eur...   \n",
       "656  Ruddock backs Yapp's credentials\\n \\n Wales co...   \n",
       "657  Roddick in talks over new coach\\n \\n Andy Rodd...   \n",
       "658  Train strike grips Buenos Aires\\n \\n A strike ...   \n",
       "\n",
       "                                       Lemmatized_text  \n",
       "0    david blunkett quote david blunkett resign hom...  \n",
       "1    benitez issue warn gerrard liverpool manager r...  \n",
       "2    brookside creator channel bid creator defunct ...  \n",
       "3    brown visit slum africa trip chancellor gordon...  \n",
       "4    gritty return prince persia still basking rela...  \n",
       "..                                                 ...  \n",
       "654  confusion tv critical mass people embrace digi...  \n",
       "655  euronext make lse group euronext poise launch ...  \n",
       "656  ruddock back yapp credential wale coach mike r...  \n",
       "657  roddick talk new coach andy roddick reportedly...  \n",
       "658  train strike grip buenos aire strike buenos ai...  \n",
       "\n",
       "[659 rows x 2 columns]"
      ]
     },
     "execution_count": 7,
     "metadata": {},
     "output_type": "execute_result"
    }
   ],
   "source": [
    "df_train\n",
    "df_valid"
   ]
  },
  {
   "cell_type": "markdown",
   "id": "a68d9c056c839144",
   "metadata": {
    "collapsed": false
   },
   "source": [
    "## Feature Engineering\n",
    "\n",
    "Ta część polega na przekształceniu tekstu na wektory, które będą podstawą do stworzenia modelu. W tym celu wykorzystamy kilka metod:\n",
    "- Tf-Idf, która przypisuje wagę słowom w zależności od ich częstości w tekście\n",
    "- analiza sentymentu, która przypisuje wartość sentymentu do tekstu\n",
    "- word embeddings (Word2Vec, GloVe, BERT), które przekształcają słowa na wektory\n",
    "- wykorzystanie bigramów i trigramów, dla których zliczymy częstość występowania"
   ]
  },
  {
   "cell_type": "markdown",
   "id": "c8afaf85a5b41dc0",
   "metadata": {
    "collapsed": false
   },
   "source": [
    "### Tf-Idf"
   ]
  },
  {
   "cell_type": "code",
   "execution_count": 39,
   "id": "7ae4f60f9bca51c9",
   "metadata": {
    "ExecuteTime": {
     "end_time": "2024-06-02T10:01:55.440234500Z",
     "start_time": "2024-06-02T10:01:55.162469300Z"
    },
    "collapsed": false
   },
   "outputs": [],
   "source": [
    "tfidf = TfidfVectorizer(max_features=5000, max_df=0.95, min_df=2)\n",
    "tfidf_features = tfidf.fit_transform(df_train['Lemmatized_text'])\n",
    "tfidf_df = pd.DataFrame(tfidf_features.toarray(), columns=tfidf.get_feature_names_out())\n",
    "\n",
    "tfidf_features_valid = tfidf.fit_transform(df_valid['Lemmatized_text'])\n",
    "tfidf_df_valid = pd.DataFrame(tfidf_features_valid.toarray(), columns=tfidf.get_feature_names_out())"
   ]
  },
  {
   "cell_type": "code",
   "execution_count": 40,
   "id": "88b3962c949089ef",
   "metadata": {
    "ExecuteTime": {
     "end_time": "2024-06-02T09:57:59.429475300Z",
     "start_time": "2024-06-02T09:57:59.412126100Z"
    },
    "collapsed": false
   },
   "outputs": [
    {
     "data": {
      "text/plain": [
       "(659, 5000)"
      ]
     },
     "execution_count": 40,
     "metadata": {},
     "output_type": "execute_result"
    }
   ],
   "source": [
    "tfidf_features_valid.shape"
   ]
  },
  {
   "cell_type": "markdown",
   "id": "59b67250d106a7da",
   "metadata": {
    "collapsed": false
   },
   "source": [
    "Mamy 5000 kolumn, co oznacza, że dla każdego tekstu mamy 5000 wartości tf-idf. Zostaną one wykorzystane jako feature do modelu. Każda kolumna odpowiada jednemu słowu, co możemy zobaczyć poniżej. Ta tabela jest bardzo rzadka, ponieważ większość wartości to 0."
   ]
  },
  {
   "cell_type": "code",
   "execution_count": 10,
   "id": "ef531793ef26ced7",
   "metadata": {
    "ExecuteTime": {
     "end_time": "2024-06-02T09:57:59.498025Z",
     "start_time": "2024-06-02T09:57:59.431476500Z"
    },
    "collapsed": false
   },
   "outputs": [
    {
     "data": {
      "text/html": [
       "<div>\n",
       "<style scoped>\n",
       "    .dataframe tbody tr th:only-of-type {\n",
       "        vertical-align: middle;\n",
       "    }\n",
       "\n",
       "    .dataframe tbody tr th {\n",
       "        vertical-align: top;\n",
       "    }\n",
       "\n",
       "    .dataframe thead th {\n",
       "        text-align: right;\n",
       "    }\n",
       "</style>\n",
       "<table border=\"1\" class=\"dataframe\">\n",
       "  <thead>\n",
       "    <tr style=\"text-align: right;\">\n",
       "      <th></th>\n",
       "      <th>ability</th>\n",
       "      <th>able</th>\n",
       "      <th>abolish</th>\n",
       "      <th>abortion</th>\n",
       "      <th>abortionist</th>\n",
       "      <th>abroad</th>\n",
       "      <th>absence</th>\n",
       "      <th>absent</th>\n",
       "      <th>absolute</th>\n",
       "      <th>absolutely</th>\n",
       "      <th>...</th>\n",
       "      <th>borrowing</th>\n",
       "      <th>bortolami</th>\n",
       "      <th>bos</th>\n",
       "      <th>boss</th>\n",
       "      <th>boston</th>\n",
       "      <th>bosvelt</th>\n",
       "      <th>bot</th>\n",
       "      <th>bottle</th>\n",
       "      <th>bottom</th>\n",
       "      <th>bought</th>\n",
       "    </tr>\n",
       "  </thead>\n",
       "  <tbody>\n",
       "    <tr>\n",
       "      <th>0</th>\n",
       "      <td>0.0</td>\n",
       "      <td>0.0</td>\n",
       "      <td>0.0</td>\n",
       "      <td>0.0</td>\n",
       "      <td>0.0</td>\n",
       "      <td>0.0</td>\n",
       "      <td>0.000000</td>\n",
       "      <td>0.0</td>\n",
       "      <td>0.0</td>\n",
       "      <td>0.0</td>\n",
       "      <td>...</td>\n",
       "      <td>0.0</td>\n",
       "      <td>0.0</td>\n",
       "      <td>0.0</td>\n",
       "      <td>0.0</td>\n",
       "      <td>0.0</td>\n",
       "      <td>0.0</td>\n",
       "      <td>0.0</td>\n",
       "      <td>0.0</td>\n",
       "      <td>0.0</td>\n",
       "      <td>0.0</td>\n",
       "    </tr>\n",
       "    <tr>\n",
       "      <th>1</th>\n",
       "      <td>0.0</td>\n",
       "      <td>0.0</td>\n",
       "      <td>0.0</td>\n",
       "      <td>0.0</td>\n",
       "      <td>0.0</td>\n",
       "      <td>0.0</td>\n",
       "      <td>0.000000</td>\n",
       "      <td>0.0</td>\n",
       "      <td>0.0</td>\n",
       "      <td>0.0</td>\n",
       "      <td>...</td>\n",
       "      <td>0.0</td>\n",
       "      <td>0.0</td>\n",
       "      <td>0.0</td>\n",
       "      <td>0.0</td>\n",
       "      <td>0.0</td>\n",
       "      <td>0.0</td>\n",
       "      <td>0.0</td>\n",
       "      <td>0.0</td>\n",
       "      <td>0.0</td>\n",
       "      <td>0.0</td>\n",
       "    </tr>\n",
       "    <tr>\n",
       "      <th>2</th>\n",
       "      <td>0.0</td>\n",
       "      <td>0.0</td>\n",
       "      <td>0.0</td>\n",
       "      <td>0.0</td>\n",
       "      <td>0.0</td>\n",
       "      <td>0.0</td>\n",
       "      <td>0.000000</td>\n",
       "      <td>0.0</td>\n",
       "      <td>0.0</td>\n",
       "      <td>0.0</td>\n",
       "      <td>...</td>\n",
       "      <td>0.0</td>\n",
       "      <td>0.0</td>\n",
       "      <td>0.0</td>\n",
       "      <td>0.0</td>\n",
       "      <td>0.0</td>\n",
       "      <td>0.0</td>\n",
       "      <td>0.0</td>\n",
       "      <td>0.0</td>\n",
       "      <td>0.0</td>\n",
       "      <td>0.0</td>\n",
       "    </tr>\n",
       "    <tr>\n",
       "      <th>3</th>\n",
       "      <td>0.0</td>\n",
       "      <td>0.0</td>\n",
       "      <td>0.0</td>\n",
       "      <td>0.0</td>\n",
       "      <td>0.0</td>\n",
       "      <td>0.0</td>\n",
       "      <td>0.000000</td>\n",
       "      <td>0.0</td>\n",
       "      <td>0.0</td>\n",
       "      <td>0.0</td>\n",
       "      <td>...</td>\n",
       "      <td>0.0</td>\n",
       "      <td>0.0</td>\n",
       "      <td>0.0</td>\n",
       "      <td>0.0</td>\n",
       "      <td>0.0</td>\n",
       "      <td>0.0</td>\n",
       "      <td>0.0</td>\n",
       "      <td>0.0</td>\n",
       "      <td>0.0</td>\n",
       "      <td>0.0</td>\n",
       "    </tr>\n",
       "    <tr>\n",
       "      <th>4</th>\n",
       "      <td>0.0</td>\n",
       "      <td>0.0</td>\n",
       "      <td>0.0</td>\n",
       "      <td>0.0</td>\n",
       "      <td>0.0</td>\n",
       "      <td>0.0</td>\n",
       "      <td>0.000000</td>\n",
       "      <td>0.0</td>\n",
       "      <td>0.0</td>\n",
       "      <td>0.0</td>\n",
       "      <td>...</td>\n",
       "      <td>0.0</td>\n",
       "      <td>0.0</td>\n",
       "      <td>0.0</td>\n",
       "      <td>0.0</td>\n",
       "      <td>0.0</td>\n",
       "      <td>0.0</td>\n",
       "      <td>0.0</td>\n",
       "      <td>0.0</td>\n",
       "      <td>0.0</td>\n",
       "      <td>0.0</td>\n",
       "    </tr>\n",
       "    <tr>\n",
       "      <th>5</th>\n",
       "      <td>0.0</td>\n",
       "      <td>0.0</td>\n",
       "      <td>0.0</td>\n",
       "      <td>0.0</td>\n",
       "      <td>0.0</td>\n",
       "      <td>0.0</td>\n",
       "      <td>0.000000</td>\n",
       "      <td>0.0</td>\n",
       "      <td>0.0</td>\n",
       "      <td>0.0</td>\n",
       "      <td>...</td>\n",
       "      <td>0.0</td>\n",
       "      <td>0.0</td>\n",
       "      <td>0.0</td>\n",
       "      <td>0.0</td>\n",
       "      <td>0.0</td>\n",
       "      <td>0.0</td>\n",
       "      <td>0.0</td>\n",
       "      <td>0.0</td>\n",
       "      <td>0.0</td>\n",
       "      <td>0.0</td>\n",
       "    </tr>\n",
       "    <tr>\n",
       "      <th>6</th>\n",
       "      <td>0.0</td>\n",
       "      <td>0.0</td>\n",
       "      <td>0.0</td>\n",
       "      <td>0.0</td>\n",
       "      <td>0.0</td>\n",
       "      <td>0.0</td>\n",
       "      <td>0.070829</td>\n",
       "      <td>0.0</td>\n",
       "      <td>0.0</td>\n",
       "      <td>0.0</td>\n",
       "      <td>...</td>\n",
       "      <td>0.0</td>\n",
       "      <td>0.0</td>\n",
       "      <td>0.0</td>\n",
       "      <td>0.0</td>\n",
       "      <td>0.0</td>\n",
       "      <td>0.0</td>\n",
       "      <td>0.0</td>\n",
       "      <td>0.0</td>\n",
       "      <td>0.0</td>\n",
       "      <td>0.0</td>\n",
       "    </tr>\n",
       "    <tr>\n",
       "      <th>7</th>\n",
       "      <td>0.0</td>\n",
       "      <td>0.0</td>\n",
       "      <td>0.0</td>\n",
       "      <td>0.0</td>\n",
       "      <td>0.0</td>\n",
       "      <td>0.0</td>\n",
       "      <td>0.000000</td>\n",
       "      <td>0.0</td>\n",
       "      <td>0.0</td>\n",
       "      <td>0.0</td>\n",
       "      <td>...</td>\n",
       "      <td>0.0</td>\n",
       "      <td>0.0</td>\n",
       "      <td>0.0</td>\n",
       "      <td>0.0</td>\n",
       "      <td>0.0</td>\n",
       "      <td>0.0</td>\n",
       "      <td>0.0</td>\n",
       "      <td>0.0</td>\n",
       "      <td>0.0</td>\n",
       "      <td>0.0</td>\n",
       "    </tr>\n",
       "    <tr>\n",
       "      <th>8</th>\n",
       "      <td>0.0</td>\n",
       "      <td>0.0</td>\n",
       "      <td>0.0</td>\n",
       "      <td>0.0</td>\n",
       "      <td>0.0</td>\n",
       "      <td>0.0</td>\n",
       "      <td>0.000000</td>\n",
       "      <td>0.0</td>\n",
       "      <td>0.0</td>\n",
       "      <td>0.0</td>\n",
       "      <td>...</td>\n",
       "      <td>0.0</td>\n",
       "      <td>0.0</td>\n",
       "      <td>0.0</td>\n",
       "      <td>0.0</td>\n",
       "      <td>0.0</td>\n",
       "      <td>0.0</td>\n",
       "      <td>0.0</td>\n",
       "      <td>0.0</td>\n",
       "      <td>0.0</td>\n",
       "      <td>0.0</td>\n",
       "    </tr>\n",
       "    <tr>\n",
       "      <th>9</th>\n",
       "      <td>0.0</td>\n",
       "      <td>0.0</td>\n",
       "      <td>0.0</td>\n",
       "      <td>0.0</td>\n",
       "      <td>0.0</td>\n",
       "      <td>0.0</td>\n",
       "      <td>0.000000</td>\n",
       "      <td>0.0</td>\n",
       "      <td>0.0</td>\n",
       "      <td>0.0</td>\n",
       "      <td>...</td>\n",
       "      <td>0.0</td>\n",
       "      <td>0.0</td>\n",
       "      <td>0.0</td>\n",
       "      <td>0.0</td>\n",
       "      <td>0.0</td>\n",
       "      <td>0.0</td>\n",
       "      <td>0.0</td>\n",
       "      <td>0.0</td>\n",
       "      <td>0.0</td>\n",
       "      <td>0.0</td>\n",
       "    </tr>\n",
       "    <tr>\n",
       "      <th>10</th>\n",
       "      <td>0.0</td>\n",
       "      <td>0.0</td>\n",
       "      <td>0.0</td>\n",
       "      <td>0.0</td>\n",
       "      <td>0.0</td>\n",
       "      <td>0.0</td>\n",
       "      <td>0.067675</td>\n",
       "      <td>0.0</td>\n",
       "      <td>0.0</td>\n",
       "      <td>0.0</td>\n",
       "      <td>...</td>\n",
       "      <td>0.0</td>\n",
       "      <td>0.0</td>\n",
       "      <td>0.0</td>\n",
       "      <td>0.0</td>\n",
       "      <td>0.0</td>\n",
       "      <td>0.0</td>\n",
       "      <td>0.0</td>\n",
       "      <td>0.0</td>\n",
       "      <td>0.0</td>\n",
       "      <td>0.0</td>\n",
       "    </tr>\n",
       "  </tbody>\n",
       "</table>\n",
       "<p>11 rows × 502 columns</p>\n",
       "</div>"
      ],
      "text/plain": [
       "    ability  able  abolish  abortion  abortionist  abroad   absence  absent  \\\n",
       "0       0.0   0.0      0.0       0.0          0.0     0.0  0.000000     0.0   \n",
       "1       0.0   0.0      0.0       0.0          0.0     0.0  0.000000     0.0   \n",
       "2       0.0   0.0      0.0       0.0          0.0     0.0  0.000000     0.0   \n",
       "3       0.0   0.0      0.0       0.0          0.0     0.0  0.000000     0.0   \n",
       "4       0.0   0.0      0.0       0.0          0.0     0.0  0.000000     0.0   \n",
       "5       0.0   0.0      0.0       0.0          0.0     0.0  0.000000     0.0   \n",
       "6       0.0   0.0      0.0       0.0          0.0     0.0  0.070829     0.0   \n",
       "7       0.0   0.0      0.0       0.0          0.0     0.0  0.000000     0.0   \n",
       "8       0.0   0.0      0.0       0.0          0.0     0.0  0.000000     0.0   \n",
       "9       0.0   0.0      0.0       0.0          0.0     0.0  0.000000     0.0   \n",
       "10      0.0   0.0      0.0       0.0          0.0     0.0  0.067675     0.0   \n",
       "\n",
       "    absolute  absolutely  ...  borrowing  bortolami  bos  boss  boston  \\\n",
       "0        0.0         0.0  ...        0.0        0.0  0.0   0.0     0.0   \n",
       "1        0.0         0.0  ...        0.0        0.0  0.0   0.0     0.0   \n",
       "2        0.0         0.0  ...        0.0        0.0  0.0   0.0     0.0   \n",
       "3        0.0         0.0  ...        0.0        0.0  0.0   0.0     0.0   \n",
       "4        0.0         0.0  ...        0.0        0.0  0.0   0.0     0.0   \n",
       "5        0.0         0.0  ...        0.0        0.0  0.0   0.0     0.0   \n",
       "6        0.0         0.0  ...        0.0        0.0  0.0   0.0     0.0   \n",
       "7        0.0         0.0  ...        0.0        0.0  0.0   0.0     0.0   \n",
       "8        0.0         0.0  ...        0.0        0.0  0.0   0.0     0.0   \n",
       "9        0.0         0.0  ...        0.0        0.0  0.0   0.0     0.0   \n",
       "10       0.0         0.0  ...        0.0        0.0  0.0   0.0     0.0   \n",
       "\n",
       "    bosvelt  bot  bottle  bottom  bought  \n",
       "0       0.0  0.0     0.0     0.0     0.0  \n",
       "1       0.0  0.0     0.0     0.0     0.0  \n",
       "2       0.0  0.0     0.0     0.0     0.0  \n",
       "3       0.0  0.0     0.0     0.0     0.0  \n",
       "4       0.0  0.0     0.0     0.0     0.0  \n",
       "5       0.0  0.0     0.0     0.0     0.0  \n",
       "6       0.0  0.0     0.0     0.0     0.0  \n",
       "7       0.0  0.0     0.0     0.0     0.0  \n",
       "8       0.0  0.0     0.0     0.0     0.0  \n",
       "9       0.0  0.0     0.0     0.0     0.0  \n",
       "10      0.0  0.0     0.0     0.0     0.0  \n",
       "\n",
       "[11 rows x 502 columns]"
      ]
     },
     "execution_count": 10,
     "metadata": {},
     "output_type": "execute_result"
    }
   ],
   "source": [
    "tfidf_df.loc[:10, 'ability':'bought']"
   ]
  },
  {
   "cell_type": "markdown",
   "id": "fd210cdb",
   "metadata": {},
   "source": [
    "<font color=\"red\">Słuszne rozwiązanie bazujące na metodzie tfidf-vectorizer. Rozbicie zdań na pojedyncze słowa może nieść za sobą jakieś ciekawe informacje.</font>\n"
   ]
  },
  {
   "cell_type": "markdown",
   "id": "4e1257fac811e0a2",
   "metadata": {
    "collapsed": false
   },
   "source": [
    "### Analiza sentymentu"
   ]
  },
  {
   "cell_type": "code",
   "execution_count": 16,
   "id": "56d81653067c7def",
   "metadata": {
    "ExecuteTime": {
     "end_time": "2024-06-02T09:58:00.900398600Z",
     "start_time": "2024-06-02T09:57:59.495948300Z"
    },
    "collapsed": false
   },
   "outputs": [],
   "source": [
    "sentiment = np.array(df_train['Lemmatized_text'].apply(lambda x: TextBlob(x).sentiment.polarity))\n",
    "\n",
    "sentiment_valid = np.array(df_valid['Lemmatized_text'].apply(lambda x: TextBlob(x).sentiment.polarity))"
   ]
  },
  {
   "cell_type": "code",
   "execution_count": 18,
   "id": "b83d0e96ec5adf67",
   "metadata": {
    "ExecuteTime": {
     "end_time": "2024-06-02T09:58:00.923398400Z",
     "start_time": "2024-06-02T09:58:00.906399100Z"
    },
    "collapsed": false
   },
   "outputs": [
    {
     "data": {
      "text/plain": [
       "array([ 1.23863636e-02,  3.25662879e-01,  8.12500000e-02,  1.55194805e-01,\n",
       "        6.30449229e-02, -1.20632666e-01, -8.18097643e-02, -2.24880383e-02,\n",
       "        3.27380952e-02,  1.60335498e-01,  1.75000000e-01,  5.80086580e-02,\n",
       "        3.77192982e-02,  1.45927861e-01, -1.18181818e-01,  3.24675325e-02,\n",
       "        3.51367244e-02, -3.06159420e-02, -2.63157895e-02,  1.34737077e-01,\n",
       "       -7.93518519e-02,  7.98313492e-02,  1.83796296e-01, -1.43939394e-02,\n",
       "        1.80401235e-01,  2.13157895e-01, -4.06818182e-02,  2.70312500e-01,\n",
       "        2.92929293e-01,  2.01913876e-01,  6.84736980e-02,  5.47619048e-02,\n",
       "       -7.31534091e-02,  7.73358586e-02,  1.07575758e-01,  2.04459562e-02,\n",
       "        4.48072562e-02,  8.76306706e-02,  9.92757243e-02, -3.50781250e-02,\n",
       "        3.33333333e-02,  9.53278584e-02, -6.70833333e-02, -5.23809524e-02,\n",
       "        1.59166667e-01,  9.44202899e-02, -1.37023810e-01,  2.54166667e-01,\n",
       "        1.12209302e-01, -8.29761905e-02, -2.86830357e-02,  9.89090909e-02,\n",
       "        1.17640693e-02,  1.18181818e-01, -1.39197012e-01,  7.16356108e-02,\n",
       "        1.62500000e-01,  2.29040404e-01, -2.29316979e-02, -3.08080808e-02,\n",
       "        1.08220551e-01,  2.10497835e-02, -8.68421053e-02,  1.53904762e-01,\n",
       "        6.25000000e-02, -2.43846630e-02, -3.79797980e-02,  4.05953226e-01,\n",
       "        3.16863760e-02, -2.63774105e-02,  2.89285714e-01,  3.23691460e-03,\n",
       "        2.40259740e-02, -2.08333333e-02,  6.89285714e-02,  4.72859392e-03,\n",
       "       -5.49450549e-03,  1.52020202e-02,  4.16666667e-02,  8.20409982e-02,\n",
       "       -1.81074380e-01, -2.79377880e-03,  1.07692308e-01,  1.93571429e-01,\n",
       "       -2.90209790e-02,  6.60899316e-02, -1.80129214e-02, -6.37500000e-02,\n",
       "        7.34487734e-03,  7.89897040e-03,  1.26984127e-03,  2.31733484e-01,\n",
       "        1.46160714e-01,  2.19074675e-01,  7.96052632e-02,  3.74053030e-03,\n",
       "        2.07267992e-02,  8.54807692e-02,  9.32130017e-02,  4.41919192e-02,\n",
       "        6.26298701e-02,  8.64675325e-02,  2.00000000e-02, -1.00711788e-02,\n",
       "        2.15702479e-01, -1.50252525e-02,  3.49019608e-01, -5.92261905e-02,\n",
       "        5.32302489e-02,  4.77272727e-02, -8.57120310e-02,  1.94285714e-01,\n",
       "        1.09491979e-01,  1.60000000e-01,  1.74919407e-02,  1.19114558e-01,\n",
       "        8.43253968e-03, -1.82055749e-02,  2.83380952e-01,  1.99714286e-02,\n",
       "       -9.01406926e-02,  1.97294372e-01,  2.65768588e-02,  1.08020050e-01,\n",
       "        1.77450980e-01,  2.16666667e-02,  1.73484848e-01,  9.05555556e-02,\n",
       "        5.51515152e-01, -1.75252525e-01,  2.48265993e-02,  7.41666667e-02,\n",
       "        1.71006494e-01,  7.06486742e-02,  1.05833333e-01, -2.58323026e-03,\n",
       "       -5.05434783e-02,  5.35539216e-02, -9.65367965e-02,  1.51994852e-01,\n",
       "       -2.39583333e-02,  1.04615385e-01,  2.57142857e-01,  1.59740260e-01,\n",
       "        1.40551347e-01,  1.07319713e-01,  4.43437623e-02,  9.68253968e-03,\n",
       "        5.31897927e-02,  8.84778912e-02,  4.95000000e-01,  1.86877076e-01,\n",
       "        4.21611953e-02,  5.17713496e-02,  1.66256614e-01,  3.80102041e-02,\n",
       "        1.68947368e-01, -4.61760462e-03,  4.77246827e-02,  6.98484848e-02,\n",
       "        1.30086580e-01,  2.42507003e-01,  1.79487179e-02,  3.72564935e-02,\n",
       "        2.57029713e-02,  2.73148148e-02,  4.69117647e-02,  1.37563582e-01,\n",
       "        5.51985371e-02,  1.11514168e-01,  5.89179842e-02, -4.50000000e-02,\n",
       "       -7.30205279e-03,  1.74909091e-01,  1.34200969e-01,  4.94214876e-01,\n",
       "        6.25974026e-02,  6.28343734e-02, -3.74060150e-02,  8.73847167e-02,\n",
       "        9.10734327e-02,  2.57945736e-01, -5.33126294e-03, -4.59449405e-02,\n",
       "        6.48758418e-02,  1.08333333e-01,  2.31805556e-01,  5.21480331e-02,\n",
       "        1.00416289e-01,  8.33333333e-03,  3.56691919e-02,  8.95627706e-02,\n",
       "        8.34407666e-02,  1.18257576e-01,  3.95238095e-02,  1.54423265e-01,\n",
       "        1.13352273e-01,  2.56493506e-02, -4.42821068e-02,  1.11647727e-01,\n",
       "        8.02042986e-02,  1.63340938e-01, -2.65093240e-02,  2.42290249e-01,\n",
       "        1.62000000e-01,  2.95698925e-02, -5.74869575e-02,  7.46082251e-02,\n",
       "        2.42425907e-02,  1.59878001e-01, -3.85204082e-02,  1.80704100e-02,\n",
       "        2.44258242e-02, -2.18073593e-02,  1.27329977e-01,  5.57851240e-03,\n",
       "        1.80528846e-01,  1.79651989e-01,  3.75070582e-02,  6.97222222e-02,\n",
       "       -1.33333333e-02,  1.65816327e-02,  8.38744589e-02,  5.69736842e-01,\n",
       "        5.91666667e-02,  2.41071429e-03,  2.32692182e-02,  9.38600289e-03,\n",
       "        1.03901515e-01,  8.82653061e-02, -2.52777778e-02,  9.45768662e-02,\n",
       "        2.29797980e-02, -2.56562137e-02,  1.19791667e-01,  7.89170507e-02,\n",
       "        2.17857143e-01,  3.96915584e-02,  1.49353002e-01, -4.00000000e-02,\n",
       "        2.51820150e-02,  2.27496641e-02,  3.73647186e-02, -2.08162452e-02,\n",
       "        3.86863137e-01,  4.62500000e-02, -1.73160173e-02,  3.49893162e-01,\n",
       "       -1.04166667e-03,  1.31006494e-01,  7.49368687e-02,  7.88690476e-03,\n",
       "        5.32889874e-02,  5.75000000e-02,  9.35606061e-02,  1.85384615e-01,\n",
       "        3.47222222e-02,  2.02083333e-01, -6.38197451e-02,  1.80080214e-01,\n",
       "        1.10770402e-01, -1.18234611e-01, -7.06790123e-02,  1.95444185e-01,\n",
       "       -1.65784832e-02,  2.27651515e-01,  2.67473118e-02,  4.77904040e-02,\n",
       "       -4.66783217e-02,  1.72354497e-01,  6.02539683e-02,  6.71875000e-02,\n",
       "        8.16948052e-02,  6.13636364e-02,  9.23076923e-02, -2.86661255e-02,\n",
       "        1.55228758e-01, -2.56562137e-02,  8.43607645e-02,  1.73214286e-01,\n",
       "       -1.02847153e-01,  2.44444444e-02,  7.85714286e-02, -9.25925926e-02,\n",
       "        5.77536232e-02,  1.82765152e-01,  8.18945993e-02,  3.41582879e-02,\n",
       "        7.28463203e-02, -4.69135802e-02,  4.16576479e-02, -2.77777778e-02,\n",
       "        3.95063338e-01,  7.72874245e-02,  1.60098522e-02, -1.12938596e-02,\n",
       "       -1.03125000e-01,  1.28722944e-01, -1.45075758e-01,  1.55555556e-01,\n",
       "        9.15824916e-02,  2.45952381e-01,  1.59862155e-01,  1.03168044e-01,\n",
       "        8.82051282e-02,  8.41428571e-02,  7.21966691e-02,  1.70652174e-01,\n",
       "        1.47395833e-01,  1.00699301e-01,  1.43973214e-02,  1.47506887e-01,\n",
       "        7.56878788e-02,  5.26657553e-02,  6.86309524e-02,  2.64059934e-01,\n",
       "        1.28626887e-01,  7.33709273e-02,  2.08333333e-03,  1.29558699e-01,\n",
       "       -1.32648148e-01,  1.54124579e-01, -1.58333333e-01,  1.05320486e-01,\n",
       "        7.78522073e-03,  1.60364146e-02,  1.74025974e-01,  4.72510823e-02,\n",
       "        2.88989899e-01, -9.66666667e-02,  1.06624278e-01, -2.31773399e-02,\n",
       "       -4.16666667e-02, -3.88636364e-02,  1.72789001e-01,  2.22222222e-02,\n",
       "       -3.21273076e-02,  2.50511063e-02,  2.47877123e-01,  2.90789474e-01,\n",
       "        1.77269841e-02,  1.75000000e-02, -2.81601732e-02,  1.08511586e-02,\n",
       "       -6.15384615e-02,  6.39418377e-02, -4.76808905e-02,  9.56057423e-02,\n",
       "        1.05513784e-01,  5.77380952e-02,  1.22619048e-02,  1.47658730e-01,\n",
       "        1.66666667e-02,  2.79177833e-02, -5.10416667e-02, -2.78048341e-02,\n",
       "        5.32878788e-02,  5.45512821e-02,  1.05383623e-01,  6.90045617e-02,\n",
       "        7.00247372e-02,  4.15263749e-02,  1.20357143e-01,  1.35658915e-03,\n",
       "        4.03846154e-02,  6.45134576e-02,  1.32352941e-01,  1.30804924e-01,\n",
       "        2.42115028e-02,  1.36942959e-01,  7.55778165e-02,  2.78985507e-02,\n",
       "       -4.84920635e-02,  1.08487274e-01,  1.01365546e-01, -2.83333333e-02,\n",
       "        9.92063492e-03,  1.00657895e-01,  2.14285714e-02,  1.90726817e-02,\n",
       "        1.41897233e-01,  2.72746599e-02, -8.12500000e-02,  1.97107438e-01,\n",
       "        2.14374262e-01, -1.04940711e-01,  3.11111111e-01,  1.62968975e-01,\n",
       "        1.48951049e-01,  5.58284457e-02,  5.22727273e-02, -3.38972431e-02,\n",
       "        2.80984848e-01,  3.74331551e-02,  2.29924242e-01,  1.59649123e-01,\n",
       "        5.93253968e-02,  2.17669173e-01,  3.59242424e-01,  1.41587615e-01,\n",
       "       -2.13417659e-02,  1.55555556e-01,  2.55158730e-01,  1.53154401e-01,\n",
       "        2.13149351e-01, -9.01315789e-02, -2.35294118e-02,  1.91666667e-01,\n",
       "       -3.89194139e-03,  1.07126824e-01,  1.21838688e-01,  9.74002447e-02,\n",
       "        7.62741047e-02,  1.84848485e-01,  2.45578231e-02,  1.17333333e-01,\n",
       "        4.42650961e-02,  5.50445010e-02, -2.22817460e-02,  1.99958949e-01,\n",
       "       -2.71577381e-03,  2.36022727e-01,  1.07386364e-01,  1.48496241e-01,\n",
       "       -2.66161616e-02,  8.94473582e-02,  2.11111111e-02,  5.24074074e-02,\n",
       "       -6.67633229e-02,  6.54475427e-02,  3.49666667e-02,  7.80423280e-02,\n",
       "        9.71539722e-02, -6.75481859e-02,  1.10740741e-01, -1.11111111e-01,\n",
       "        1.43215405e-01, -2.88031413e-02, -5.66368816e-02, -9.29487179e-02,\n",
       "       -7.53787879e-02,  1.06111111e-01,  9.73114848e-02,  3.12500000e-02,\n",
       "        1.97142857e-01,  1.09285714e-01, -6.24311295e-02, -1.50238095e-01,\n",
       "        6.02424242e-02,  5.07812500e-03,  1.44377104e-01,  1.76736170e-01,\n",
       "       -3.89194139e-03,  4.70954291e-02,  7.57575758e-02,  1.87520813e-02,\n",
       "       -4.20308858e-02,  8.56543258e-02, -7.22222222e-03,  2.06101190e-01,\n",
       "        2.11309524e-02,  7.32654733e-02,  4.86805556e-02,  1.24761905e-01,\n",
       "        7.28896104e-02,  6.65869219e-02,  9.35034014e-02,  5.59006211e-02,\n",
       "        8.19152112e-02,  3.08333333e-02,  4.54978355e-02,  2.07692308e-01,\n",
       "        1.25416667e-01,  1.58301817e-01,  5.59469697e-03,  2.03214286e-01,\n",
       "        2.12294372e-01,  9.84848485e-02,  8.85714286e-03,  1.73015873e-01,\n",
       "        1.26250000e-01,  8.27400994e-02,  2.80303030e-02,  1.25457839e-01,\n",
       "        1.91875000e-01,  3.90243902e-03,  1.98051948e-01, -3.04081633e-02,\n",
       "       -2.46903559e-02,  1.90634921e-02,  3.77110390e-02,  1.03216450e-01,\n",
       "        1.19318182e-01,  8.88888889e-02,  1.09264069e-01,  1.44287879e-01,\n",
       "        1.06859926e-01,  2.11060354e-01,  1.47727273e-01, -9.61038961e-02,\n",
       "        7.30055659e-02,  2.13286713e-01,  1.76694139e-01,  8.76306706e-02,\n",
       "        4.76596320e-02,  2.07818930e-02,  6.22714350e-02, -1.24358974e-01,\n",
       "       -4.18181818e-02, -1.66666667e-02,  1.36111111e-01,  1.49126221e-01,\n",
       "        1.87500000e-02,  2.27297896e-01,  3.17948718e-01, -1.31309524e-01,\n",
       "        2.45316804e-01,  1.22696567e-01,  2.88095238e-02,  6.58333333e-02,\n",
       "        1.41269841e-01, -1.10671937e-02, -1.28571429e-01,  3.19444444e-02,\n",
       "        1.16107504e-01, -2.01699689e-01,  6.92861305e-02, -5.72916667e-03,\n",
       "        2.66175788e-02,  4.31642001e-04,  3.14130435e-02,  5.06944444e-02,\n",
       "        9.06470722e-02,  8.66161616e-02,  7.14285714e-02, -1.34920635e-02,\n",
       "        2.20000000e-01,  5.20805725e-02,  7.43217893e-02,  3.14393939e-01,\n",
       "        7.54193723e-02,  1.29191919e-01,  7.72577997e-02,  6.22619048e-02,\n",
       "        1.35835095e-02,  2.82196970e-02,  1.82433712e-01,  1.29661143e-01,\n",
       "        8.47073217e-02,  4.47757858e-02,  2.13821892e-01,  5.90909091e-02,\n",
       "        6.66801948e-02,  1.56878307e-01,  1.68103896e-01,  3.09178744e-03,\n",
       "       -1.87500000e-03,  2.07195104e-02,  5.35812672e-02,  1.43265993e-01,\n",
       "        2.15972222e-02, -4.30735931e-02,  7.47368421e-02,  1.65056022e-01,\n",
       "        1.03796296e-01,  1.63972431e-01,  6.23973727e-03,  1.22222222e-01,\n",
       "        1.37272727e-01, -1.45833333e-02,  2.36748437e-01,  5.15047022e-01,\n",
       "        1.38351371e-01,  5.67233121e-02,  6.81818182e-03, -7.37373737e-02,\n",
       "        3.44144571e-02,  3.04464286e-01,  1.22253144e-01,  1.67711039e-01,\n",
       "        5.33834586e-02,  7.02705628e-02,  5.40404040e-03,  7.65550239e-02,\n",
       "        1.25000000e-01, -2.68237082e-02, -2.76875902e-03, -4.88591270e-02,\n",
       "        2.84808612e-01, -1.17309524e-01,  1.01439394e-01,  2.68939394e-02,\n",
       "       -6.66666667e-02,  3.33333333e-02,  7.06391648e-02,  2.11772487e-01,\n",
       "        1.39118457e-02, -1.63299663e-02,  2.46794872e-02,  1.69742063e-01,\n",
       "        2.78787879e-01,  7.00396825e-02,  1.42774686e-01,  1.87410714e-01,\n",
       "        1.08595571e-01, -1.04942280e-01,  2.15151515e-02, -3.57142857e-02,\n",
       "       -1.04166667e-01,  4.55714984e-02, -5.38915229e-02, -1.38888889e-03,\n",
       "        2.53083157e-02,  1.11022302e-17,  2.50000000e-02,  4.93827160e-01,\n",
       "        1.37237896e-01,  2.37916667e-01,  4.38803621e-03,  6.40083874e-02,\n",
       "       -1.57921811e-02,  8.85780886e-02,  1.57739786e-01,  1.29687500e-01,\n",
       "        9.21701632e-02, -7.56944444e-02,  3.88888889e-02, -7.51748252e-02,\n",
       "        2.40816327e-01,  1.74603175e-02,  1.38461538e-01,  7.61904762e-02,\n",
       "        3.92156863e-03,  1.50361811e-01,  3.79639417e-02,  2.69321789e-02,\n",
       "        1.94349747e-01, -1.46200643e-02,  1.78571429e-03,  4.51561952e-03,\n",
       "       -3.29613095e-02, -3.04421769e-02, -1.14583333e-03,  2.34989648e-02,\n",
       "        5.70500928e-02,  8.72916667e-02, -1.14593301e-01,  2.01190476e-01,\n",
       "        1.57312925e-01,  1.25979798e-01,  6.96235312e-02,  1.37848933e-01,\n",
       "       -2.69230769e-02,  1.06250000e-01,  8.45256696e-02, -5.20833333e-03,\n",
       "        8.79166667e-02,  2.97272727e-01, -3.30303030e-02])"
      ]
     },
     "execution_count": 18,
     "metadata": {},
     "output_type": "execute_result"
    }
   ],
   "source": [
    "sentiment_valid"
   ]
  },
  {
   "cell_type": "markdown",
   "id": "db1b8a8a4766acf2",
   "metadata": {
    "collapsed": false
   },
   "source": [
    "Mamy utworzoną macierz sentiment, która zawiera wartość sentymentu dla danego tekstu. Jest to wartość z przedziału [-1, 1], gdzie -1 oznacza negatywny sentyment, 0 neutralny, a 1 pozytywny. Wartości te będą wykorzystane jako dodatkowy feature. Zostało to policzone na podstawie biblioteki TextBlob, która oferuje wcześniej wytrenowany model do analizy sentymentu."
   ]
  },
  {
   "cell_type": "markdown",
   "id": "59bb0ec972fa2e07",
   "metadata": {
    "collapsed": false
   },
   "source": [
    "### Word embeddings\n",
    "\n",
    "#### Word2Vec"
   ]
  },
  {
   "cell_type": "code",
   "execution_count": 19,
   "id": "9ece310cf0acb0db",
   "metadata": {
    "ExecuteTime": {
     "end_time": "2024-06-02T09:58:55.064701900Z",
     "start_time": "2024-06-02T09:58:00.918099800Z"
    },
    "collapsed": false
   },
   "outputs": [
    {
     "name": "stdout",
     "output_type": "stream",
     "text": [
      "[==================================================] 100.0% 1662.8/1662.8MB downloaded\n"
     ]
    }
   ],
   "source": [
    "# to może zająć nawet kilka minut\n",
    "word2vec_model = api.load('word2vec-google-news-300')"
   ]
  },
  {
   "cell_type": "code",
   "execution_count": 20,
   "id": "135f618f7ea8c712",
   "metadata": {
    "ExecuteTime": {
     "end_time": "2024-06-02T09:58:55.460292300Z",
     "start_time": "2024-06-02T09:58:55.043072600Z"
    },
    "collapsed": false
   },
   "outputs": [],
   "source": [
    "def get_document_vector(doc, embeddings, size=300):\n",
    "    tokens = doc.lower().split()\n",
    "    word_vectors = [embeddings[word] for word in tokens if word in embeddings]\n",
    "    if word_vectors:\n",
    "        return np.mean(word_vectors, axis=0)\n",
    "    else:\n",
    "        return np.zeros(size)"
   ]
  },
  {
   "cell_type": "code",
   "execution_count": 21,
   "id": "6e73bc48eea16a7d",
   "metadata": {
    "ExecuteTime": {
     "end_time": "2024-06-02T09:59:00.227059200Z",
     "start_time": "2024-06-02T09:58:55.100640800Z"
    },
    "collapsed": false
   },
   "outputs": [],
   "source": [
    "df_train['word2vec_vector'] = df_train['Lemmatized_text'].apply(lambda x: get_document_vector(x, word2vec_model, size=300))\n",
    "word2vec_features = np.vstack(df_train['word2vec_vector'].values)\n",
    "\n",
    "df_valid['word2vec_vector'] = df_valid['Lemmatized_text'].apply(lambda x: get_document_vector(x, word2vec_model, size=300))\n",
    "word2vec_features_valid = np.vstack(df_valid['word2vec_vector'].values)"
   ]
  },
  {
   "cell_type": "markdown",
   "id": "b8f569418f713fef",
   "metadata": {
    "collapsed": false
   },
   "source": [
    "Mamy teraz dodaną kolumnę 'word2vec_vector', która zawiera wektory dla danego tekstu. Przekształciliśmy listę wartości z kolumny 'word2vec_vector' na macierz, która będzie wykorzystana jako feature do modelu."
   ]
  },
  {
   "cell_type": "code",
   "execution_count": 22,
   "id": "7c40111960d36b98",
   "metadata": {
    "ExecuteTime": {
     "end_time": "2024-06-02T09:59:00.714105300Z",
     "start_time": "2024-06-02T09:59:00.228058300Z"
    },
    "collapsed": false
   },
   "outputs": [
    {
     "data": {
      "text/plain": [
       "array([[ 0.00816164,  0.02809448,  0.02189269, ..., -0.05711208,\n",
       "         0.02271203, -0.00725544],\n",
       "       [-0.00346469, -0.0015029 ,  0.0457142 , ..., -0.08963601,\n",
       "         0.01003915, -0.0145825 ],\n",
       "       [-0.01685845,  0.00205955,  0.02318158, ..., -0.00160517,\n",
       "         0.00560249, -0.05158079],\n",
       "       ...,\n",
       "       [ 0.01006452,  0.08442411,  0.02437808, ..., -0.06083871,\n",
       "        -0.01245371, -0.02221558],\n",
       "       [-0.04571427,  0.03838561,  0.01485585, ..., -0.06938278,\n",
       "         0.0083694 , -0.02058721],\n",
       "       [-0.00424918,  0.02636294,  0.01728684, ..., -0.0158917 ,\n",
       "        -0.01450002, -0.04595566]], dtype=float32)"
      ]
     },
     "execution_count": 22,
     "metadata": {},
     "output_type": "execute_result"
    }
   ],
   "source": [
    "word2vec_features_valid"
   ]
  },
  {
   "cell_type": "markdown",
   "id": "d45e494cd5a4bcf9",
   "metadata": {
    "collapsed": false
   },
   "source": [
    "#### GloVe"
   ]
  },
  {
   "cell_type": "code",
   "execution_count": 24,
   "id": "d6ff8e8d1ae04a48",
   "metadata": {
    "ExecuteTime": {
     "end_time": "2024-06-02T09:59:37.854680400Z",
     "start_time": "2024-06-02T09:59:00.721477700Z"
    },
    "collapsed": false
   },
   "outputs": [],
   "source": [
    "def load_glove_embeddings(glove_file_path):\n",
    "    embeddings_index = {}\n",
    "    with open(glove_file_path, encoding='utf-8') as f:\n",
    "        for line in f:\n",
    "            values = line.split()\n",
    "            word = values[0]\n",
    "            coefs = np.asarray(values[1:], dtype='float32')\n",
    "            embeddings_index[word] = coefs\n",
    "    return embeddings_index\n",
    "\n",
    "# niezbędny jest poniższy plik to działania\n",
    "glove_file = 'data\\\\glove.6B.300d.txt'\n",
    "glove_embeddings = load_glove_embeddings(glove_file)"
   ]
  },
  {
   "cell_type": "code",
   "execution_count": 25,
   "id": "bf459b370977c171",
   "metadata": {
    "ExecuteTime": {
     "end_time": "2024-06-02T09:59:38.253897900Z",
     "start_time": "2024-06-02T09:59:37.875165100Z"
    },
    "collapsed": false
   },
   "outputs": [],
   "source": [
    "df_train['glove_vector'] = df_train['Lemmatized_text'].apply(lambda x: get_document_vector(x, glove_embeddings))\n",
    "glove_features = np.vstack(df_train['glove_vector'].values)\n",
    "\n",
    "df_valid['glove_vector'] = df_valid['Lemmatized_text'].apply(lambda x: get_document_vector(x, glove_embeddings))\n",
    "glove_features_valid = np.vstack(df_valid['glove_vector'].values)"
   ]
  },
  {
   "cell_type": "code",
   "execution_count": 27,
   "id": "edb59b7bcbc39c0d",
   "metadata": {
    "ExecuteTime": {
     "end_time": "2024-06-02T09:59:38.287697700Z",
     "start_time": "2024-06-02T09:59:38.257205300Z"
    },
    "collapsed": false
   },
   "outputs": [
    {
     "data": {
      "text/plain": [
       "array([[-0.03601303,  0.02718826, -0.04028834, ..., -0.14031658,\n",
       "        -0.0619384 ,  0.06890595],\n",
       "       [ 0.06016094,  0.41761795, -0.04372361, ..., -0.29688752,\n",
       "        -0.02892094,  0.04866818],\n",
       "       [-0.12006623,  0.01491837, -0.0125928 , ...,  0.05935785,\n",
       "        -0.15730442,  0.07018969],\n",
       "       ...,\n",
       "       [ 0.02318452,  0.18193401, -0.03518611, ..., -0.09741104,\n",
       "        -0.05078519, -0.0292771 ],\n",
       "       [ 0.01805772,  0.16485925, -0.0298871 , ..., -0.10596174,\n",
       "        -0.00640604,  0.13265216],\n",
       "       [ 0.06538825,  0.1776357 ,  0.00160793, ..., -0.21952389,\n",
       "        -0.06624889,  0.02946717]], dtype=float32)"
      ]
     },
     "execution_count": 27,
     "metadata": {},
     "output_type": "execute_result"
    }
   ],
   "source": [
    "glove_features_valid"
   ]
  },
  {
   "cell_type": "markdown",
   "id": "ab82fab7b83e3777",
   "metadata": {
    "collapsed": false
   },
   "source": [
    "Analogicznie jak dla Word2Vec, mamy teraz dodaną kolumnę 'glove_vector', która zawiera wektory dla danego tekstu. Przekształciliśmy listę wartości z kolumny 'glove_vector' na macierz, która będzie wykorzystana jako feature do modelu."
   ]
  },
  {
   "cell_type": "markdown",
   "id": "eef35401",
   "metadata": {},
   "source": [
    "<font color=\"red\">Ciekawe podejście z metodą word2vec i GloVe. Wektory słów mogą mieć kluczowe znaczenie w dalszym trenowaniu i uczeniu modelu.</font>"
   ]
  },
  {
   "cell_type": "markdown",
   "id": "7f42fd5dcb5c46c7",
   "metadata": {
    "collapsed": false
   },
   "source": [
    "#### BERT"
   ]
  },
  {
   "cell_type": "code",
   "execution_count": 21,
   "id": "105efcf918178a80",
   "metadata": {
    "ExecuteTime": {
     "end_time": "2024-06-02T09:59:38.339508700Z",
     "start_time": "2024-06-02T09:59:38.274307Z"
    },
    "collapsed": false
   },
   "outputs": [],
   "source": [
    "# tokenizer = BertTokenizer.from_pretrained('bert-base-uncased')\n",
    "# model = BertModel.from_pretrained('bert-base-uncased')\n",
    "# def get_bert_embedding(text):\n",
    "#     inputs = tokenizer(text, return_tensors='pt', truncation=True, padding=True, max_length=512)\n",
    "#     print(\"after tokenization\")\n",
    "#     outputs = model(**inputs)\n",
    "#     return outputs.last_hidden_state.mean(dim=1).squeeze().detach().numpy()"
   ]
  },
  {
   "cell_type": "code",
   "execution_count": 22,
   "id": "d3b02ffd80698957",
   "metadata": {
    "ExecuteTime": {
     "end_time": "2024-06-02T09:59:38.371737600Z",
     "start_time": "2024-06-02T09:59:38.292720100Z"
    },
    "collapsed": false
   },
   "outputs": [],
   "source": [
    "# text = df_train['Lemmatized_text'].values.tolist()"
   ]
  },
  {
   "cell_type": "code",
   "execution_count": 23,
   "id": "a551fd51e66ffb40",
   "metadata": {
    "ExecuteTime": {
     "end_time": "2024-06-02T09:59:38.453980900Z",
     "start_time": "2024-06-02T09:59:38.304085400Z"
    },
    "collapsed": false
   },
   "outputs": [],
   "source": [
    "# inputs = tokenizer(text[:40], return_tensors='pt', truncation=True, padding=True, max_length=512)\n",
    "# \n",
    "# input_ids = inputs[\"input_ids\"]\n",
    "# token_type_ids = inputs[\"token_type_ids\"]\n",
    "# attention_mask = inputs[\"attention_mask\"]\n",
    "# BATCH_SIZE = 1\n",
    "# outputs = []\n",
    "# for batch in tqdm(range(input_ids.shape[0]//BATCH_SIZE)):\n",
    "#     outputs.append(model(\n",
    "#         input_ids=input_ids[batch* BATCH_SIZE: (batch+1) * BATCH_SIZE],\n",
    "#         token_type_ids=token_type_ids[batch* BATCH_SIZE: (batch+1) * BATCH_SIZE],\n",
    "#         attention_mask=attention_mask[batch* BATCH_SIZE: (batch+1) * BATCH_SIZE]\n",
    "#     ))"
   ]
  },
  {
   "cell_type": "markdown",
   "id": "618724f4ef951d53",
   "metadata": {
    "collapsed": false
   },
   "source": [
    "Niestety BERT wymaga zbyt dużych zasobów pamięciowych jak i obliczeniowych dlatego nie jesteśmy w stanie jej zastosować na naszym sprzęcie. W związku z tym nie będziemy wykorzystywać tej metody w dalszej części."
   ]
  },
  {
   "cell_type": "markdown",
   "id": "3271ffe6c4517810",
   "metadata": {
    "collapsed": false
   },
   "source": [
    "### Bigramy i trigramy"
   ]
  },
  {
   "cell_type": "code",
   "execution_count": 48,
   "id": "32ef190416fe9822",
   "metadata": {
    "ExecuteTime": {
     "end_time": "2024-06-02T09:59:40.385171200Z",
     "start_time": "2024-06-02T09:59:38.332373300Z"
    },
    "collapsed": false
   },
   "outputs": [],
   "source": [
    "vectorizer = CountVectorizer(ngram_range=(2, 3), max_features=1000)\n",
    "ngram_matrix = vectorizer.fit_transform(df_train['Lemmatized_text'].to_list())\n",
    "ngram_df = pd.DataFrame(ngram_matrix.toarray(), columns=vectorizer.get_feature_names_out())\n",
    "\n",
    "ngram_matrix_valid = vectorizer.fit_transform(df_valid['Lemmatized_text'].to_list())\n",
    "ngram_df_valid = pd.DataFrame(ngram_matrix_valid.toarray(), columns=vectorizer.get_feature_names_out())"
   ]
  },
  {
   "cell_type": "code",
   "execution_count": 29,
   "id": "4bf89651c10c9d1a",
   "metadata": {
    "ExecuteTime": {
     "end_time": "2024-06-02T09:59:40.522779700Z",
     "start_time": "2024-06-02T09:59:40.385171200Z"
    },
    "collapsed": false
   },
   "outputs": [
    {
     "data": {
      "text/html": [
       "<div>\n",
       "<style scoped>\n",
       "    .dataframe tbody tr th:only-of-type {\n",
       "        vertical-align: middle;\n",
       "    }\n",
       "\n",
       "    .dataframe tbody tr th {\n",
       "        vertical-align: top;\n",
       "    }\n",
       "\n",
       "    .dataframe thead th {\n",
       "        text-align: right;\n",
       "    }\n",
       "</style>\n",
       "<table border=\"1\" class=\"dataframe\">\n",
       "  <thead>\n",
       "    <tr style=\"text-align: right;\">\n",
       "      <th></th>\n",
       "      <th>ac milan</th>\n",
       "      <th>academy award</th>\n",
       "      <th>accord report</th>\n",
       "      <th>accord research</th>\n",
       "      <th>account deficit</th>\n",
       "      <th>accuse mr</th>\n",
       "      <th>aer lingus</th>\n",
       "      <th>affair spokesman</th>\n",
       "      <th>air deccan</th>\n",
       "      <th>alan milburn</th>\n",
       "      <th>...</th>\n",
       "      <th>year also</th>\n",
       "      <th>year earlier</th>\n",
       "      <th>year first</th>\n",
       "      <th>year however</th>\n",
       "      <th>year make</th>\n",
       "      <th>year mr</th>\n",
       "      <th>year oscar</th>\n",
       "      <th>year say</th>\n",
       "      <th>young people</th>\n",
       "      <th>young player</th>\n",
       "    </tr>\n",
       "  </thead>\n",
       "  <tbody>\n",
       "    <tr>\n",
       "      <th>0</th>\n",
       "      <td>0</td>\n",
       "      <td>0</td>\n",
       "      <td>0</td>\n",
       "      <td>0</td>\n",
       "      <td>0</td>\n",
       "      <td>0</td>\n",
       "      <td>0</td>\n",
       "      <td>0</td>\n",
       "      <td>0</td>\n",
       "      <td>0</td>\n",
       "      <td>...</td>\n",
       "      <td>0</td>\n",
       "      <td>0</td>\n",
       "      <td>0</td>\n",
       "      <td>0</td>\n",
       "      <td>0</td>\n",
       "      <td>0</td>\n",
       "      <td>0</td>\n",
       "      <td>0</td>\n",
       "      <td>0</td>\n",
       "      <td>0</td>\n",
       "    </tr>\n",
       "    <tr>\n",
       "      <th>1</th>\n",
       "      <td>0</td>\n",
       "      <td>0</td>\n",
       "      <td>0</td>\n",
       "      <td>0</td>\n",
       "      <td>0</td>\n",
       "      <td>0</td>\n",
       "      <td>0</td>\n",
       "      <td>0</td>\n",
       "      <td>0</td>\n",
       "      <td>0</td>\n",
       "      <td>...</td>\n",
       "      <td>0</td>\n",
       "      <td>0</td>\n",
       "      <td>0</td>\n",
       "      <td>0</td>\n",
       "      <td>0</td>\n",
       "      <td>0</td>\n",
       "      <td>0</td>\n",
       "      <td>0</td>\n",
       "      <td>0</td>\n",
       "      <td>0</td>\n",
       "    </tr>\n",
       "    <tr>\n",
       "      <th>2</th>\n",
       "      <td>0</td>\n",
       "      <td>0</td>\n",
       "      <td>0</td>\n",
       "      <td>0</td>\n",
       "      <td>0</td>\n",
       "      <td>0</td>\n",
       "      <td>0</td>\n",
       "      <td>0</td>\n",
       "      <td>0</td>\n",
       "      <td>0</td>\n",
       "      <td>...</td>\n",
       "      <td>0</td>\n",
       "      <td>0</td>\n",
       "      <td>1</td>\n",
       "      <td>0</td>\n",
       "      <td>0</td>\n",
       "      <td>0</td>\n",
       "      <td>0</td>\n",
       "      <td>0</td>\n",
       "      <td>0</td>\n",
       "      <td>0</td>\n",
       "    </tr>\n",
       "    <tr>\n",
       "      <th>3</th>\n",
       "      <td>0</td>\n",
       "      <td>0</td>\n",
       "      <td>0</td>\n",
       "      <td>0</td>\n",
       "      <td>0</td>\n",
       "      <td>0</td>\n",
       "      <td>0</td>\n",
       "      <td>0</td>\n",
       "      <td>0</td>\n",
       "      <td>0</td>\n",
       "      <td>...</td>\n",
       "      <td>0</td>\n",
       "      <td>0</td>\n",
       "      <td>0</td>\n",
       "      <td>1</td>\n",
       "      <td>0</td>\n",
       "      <td>0</td>\n",
       "      <td>0</td>\n",
       "      <td>0</td>\n",
       "      <td>0</td>\n",
       "      <td>0</td>\n",
       "    </tr>\n",
       "    <tr>\n",
       "      <th>4</th>\n",
       "      <td>0</td>\n",
       "      <td>0</td>\n",
       "      <td>0</td>\n",
       "      <td>0</td>\n",
       "      <td>0</td>\n",
       "      <td>0</td>\n",
       "      <td>0</td>\n",
       "      <td>0</td>\n",
       "      <td>0</td>\n",
       "      <td>0</td>\n",
       "      <td>...</td>\n",
       "      <td>0</td>\n",
       "      <td>0</td>\n",
       "      <td>0</td>\n",
       "      <td>0</td>\n",
       "      <td>0</td>\n",
       "      <td>0</td>\n",
       "      <td>0</td>\n",
       "      <td>0</td>\n",
       "      <td>0</td>\n",
       "      <td>0</td>\n",
       "    </tr>\n",
       "    <tr>\n",
       "      <th>...</th>\n",
       "      <td>...</td>\n",
       "      <td>...</td>\n",
       "      <td>...</td>\n",
       "      <td>...</td>\n",
       "      <td>...</td>\n",
       "      <td>...</td>\n",
       "      <td>...</td>\n",
       "      <td>...</td>\n",
       "      <td>...</td>\n",
       "      <td>...</td>\n",
       "      <td>...</td>\n",
       "      <td>...</td>\n",
       "      <td>...</td>\n",
       "      <td>...</td>\n",
       "      <td>...</td>\n",
       "      <td>...</td>\n",
       "      <td>...</td>\n",
       "      <td>...</td>\n",
       "      <td>...</td>\n",
       "      <td>...</td>\n",
       "      <td>...</td>\n",
       "    </tr>\n",
       "    <tr>\n",
       "      <th>1060</th>\n",
       "      <td>0</td>\n",
       "      <td>0</td>\n",
       "      <td>0</td>\n",
       "      <td>0</td>\n",
       "      <td>0</td>\n",
       "      <td>0</td>\n",
       "      <td>0</td>\n",
       "      <td>0</td>\n",
       "      <td>0</td>\n",
       "      <td>1</td>\n",
       "      <td>...</td>\n",
       "      <td>0</td>\n",
       "      <td>0</td>\n",
       "      <td>0</td>\n",
       "      <td>0</td>\n",
       "      <td>0</td>\n",
       "      <td>0</td>\n",
       "      <td>0</td>\n",
       "      <td>0</td>\n",
       "      <td>0</td>\n",
       "      <td>0</td>\n",
       "    </tr>\n",
       "    <tr>\n",
       "      <th>1061</th>\n",
       "      <td>0</td>\n",
       "      <td>0</td>\n",
       "      <td>0</td>\n",
       "      <td>0</td>\n",
       "      <td>0</td>\n",
       "      <td>0</td>\n",
       "      <td>0</td>\n",
       "      <td>0</td>\n",
       "      <td>0</td>\n",
       "      <td>0</td>\n",
       "      <td>...</td>\n",
       "      <td>0</td>\n",
       "      <td>0</td>\n",
       "      <td>0</td>\n",
       "      <td>0</td>\n",
       "      <td>0</td>\n",
       "      <td>0</td>\n",
       "      <td>0</td>\n",
       "      <td>0</td>\n",
       "      <td>0</td>\n",
       "      <td>0</td>\n",
       "    </tr>\n",
       "    <tr>\n",
       "      <th>1062</th>\n",
       "      <td>1</td>\n",
       "      <td>0</td>\n",
       "      <td>0</td>\n",
       "      <td>0</td>\n",
       "      <td>0</td>\n",
       "      <td>0</td>\n",
       "      <td>0</td>\n",
       "      <td>0</td>\n",
       "      <td>0</td>\n",
       "      <td>0</td>\n",
       "      <td>...</td>\n",
       "      <td>0</td>\n",
       "      <td>0</td>\n",
       "      <td>0</td>\n",
       "      <td>0</td>\n",
       "      <td>0</td>\n",
       "      <td>0</td>\n",
       "      <td>0</td>\n",
       "      <td>0</td>\n",
       "      <td>0</td>\n",
       "      <td>0</td>\n",
       "    </tr>\n",
       "    <tr>\n",
       "      <th>1063</th>\n",
       "      <td>0</td>\n",
       "      <td>0</td>\n",
       "      <td>0</td>\n",
       "      <td>0</td>\n",
       "      <td>0</td>\n",
       "      <td>0</td>\n",
       "      <td>0</td>\n",
       "      <td>0</td>\n",
       "      <td>0</td>\n",
       "      <td>0</td>\n",
       "      <td>...</td>\n",
       "      <td>0</td>\n",
       "      <td>0</td>\n",
       "      <td>0</td>\n",
       "      <td>0</td>\n",
       "      <td>0</td>\n",
       "      <td>0</td>\n",
       "      <td>0</td>\n",
       "      <td>0</td>\n",
       "      <td>0</td>\n",
       "      <td>0</td>\n",
       "    </tr>\n",
       "    <tr>\n",
       "      <th>1064</th>\n",
       "      <td>0</td>\n",
       "      <td>0</td>\n",
       "      <td>0</td>\n",
       "      <td>0</td>\n",
       "      <td>0</td>\n",
       "      <td>0</td>\n",
       "      <td>0</td>\n",
       "      <td>0</td>\n",
       "      <td>0</td>\n",
       "      <td>0</td>\n",
       "      <td>...</td>\n",
       "      <td>0</td>\n",
       "      <td>0</td>\n",
       "      <td>0</td>\n",
       "      <td>0</td>\n",
       "      <td>0</td>\n",
       "      <td>0</td>\n",
       "      <td>0</td>\n",
       "      <td>0</td>\n",
       "      <td>0</td>\n",
       "      <td>0</td>\n",
       "    </tr>\n",
       "  </tbody>\n",
       "</table>\n",
       "<p>1065 rows × 1000 columns</p>\n",
       "</div>"
      ],
      "text/plain": [
       "      ac milan  academy award  accord report  accord research  \\\n",
       "0            0              0              0                0   \n",
       "1            0              0              0                0   \n",
       "2            0              0              0                0   \n",
       "3            0              0              0                0   \n",
       "4            0              0              0                0   \n",
       "...        ...            ...            ...              ...   \n",
       "1060         0              0              0                0   \n",
       "1061         0              0              0                0   \n",
       "1062         1              0              0                0   \n",
       "1063         0              0              0                0   \n",
       "1064         0              0              0                0   \n",
       "\n",
       "      account deficit  accuse mr  aer lingus  affair spokesman  air deccan  \\\n",
       "0                   0          0           0                 0           0   \n",
       "1                   0          0           0                 0           0   \n",
       "2                   0          0           0                 0           0   \n",
       "3                   0          0           0                 0           0   \n",
       "4                   0          0           0                 0           0   \n",
       "...               ...        ...         ...               ...         ...   \n",
       "1060                0          0           0                 0           0   \n",
       "1061                0          0           0                 0           0   \n",
       "1062                0          0           0                 0           0   \n",
       "1063                0          0           0                 0           0   \n",
       "1064                0          0           0                 0           0   \n",
       "\n",
       "      alan milburn  ...  year also  year earlier  year first  year however  \\\n",
       "0                0  ...          0             0           0             0   \n",
       "1                0  ...          0             0           0             0   \n",
       "2                0  ...          0             0           1             0   \n",
       "3                0  ...          0             0           0             1   \n",
       "4                0  ...          0             0           0             0   \n",
       "...            ...  ...        ...           ...         ...           ...   \n",
       "1060             1  ...          0             0           0             0   \n",
       "1061             0  ...          0             0           0             0   \n",
       "1062             0  ...          0             0           0             0   \n",
       "1063             0  ...          0             0           0             0   \n",
       "1064             0  ...          0             0           0             0   \n",
       "\n",
       "      year make  year mr  year oscar  year say  young people  young player  \n",
       "0             0        0           0         0             0             0  \n",
       "1             0        0           0         0             0             0  \n",
       "2             0        0           0         0             0             0  \n",
       "3             0        0           0         0             0             0  \n",
       "4             0        0           0         0             0             0  \n",
       "...         ...      ...         ...       ...           ...           ...  \n",
       "1060          0        0           0         0             0             0  \n",
       "1061          0        0           0         0             0             0  \n",
       "1062          0        0           0         0             0             0  \n",
       "1063          0        0           0         0             0             0  \n",
       "1064          0        0           0         0             0             0  \n",
       "\n",
       "[1065 rows x 1000 columns]"
      ]
     },
     "execution_count": 29,
     "metadata": {},
     "output_type": "execute_result"
    }
   ],
   "source": [
    "ngram_df"
   ]
  },
  {
   "cell_type": "markdown",
   "id": "cf996dafed9c6bb5",
   "metadata": {
    "collapsed": false
   },
   "source": [
    "W ten sposób otrzymaliśmy macierz z bigramami i trigramami. Została ona przekształcona na DataFrame, który będzie wykorzystany jako feature do modelu. Musimy pamiętać, że ta macierz jest bardzo rzadka, ponieważ większość wartości to 0."
   ]
  },
  {
   "cell_type": "markdown",
   "id": "71717a66b7afce2b",
   "metadata": {
    "collapsed": false
   },
   "source": [
    "## Normalizacja danych\n",
    "\n",
    "Niezwykle ważnym krokiem w budowie modelu jest normalizacja danych. W naszym przypadku znormalizujemy dane tf-idf, word2vec, glove oraz bigramy i trigramy. Normalizacja polega na przeskalowaniu danych w taki sposób, aby miały średnią 0 oraz wariancję 1."
   ]
  },
  {
   "cell_type": "code",
   "execution_count": 33,
   "id": "5694436810ec230e",
   "metadata": {
    "ExecuteTime": {
     "end_time": "2024-06-02T09:59:40.558695Z",
     "start_time": "2024-06-02T09:59:40.484523Z"
    },
    "collapsed": false
   },
   "outputs": [],
   "source": [
    "scaler = StandardScaler(with_mean=False)"
   ]
  },
  {
   "cell_type": "markdown",
   "id": "a1ce7f0f",
   "metadata": {},
   "source": [
    "<font color=\"red\">Poniższy fragment kodu nie działa dla danych walidacyjnych. Na skutek naszej sugestii został on całkowicie zakomentowany.Standaryzacja zmiennych binarnych może bowiem niekoniecznie być dobrym pomysłem. To zawsze i tak będą tylko dwie unikalne wartości, nie ma znaczenia, czy będzie to 0 i 1 czy też 0.2 i 0.3. Tu link do dyskusji na stacku na ten temat: https://stats.stackexchange.com/questions/59392/should-you-ever-standardise-binary-variables </font>"
   ]
  },
  {
   "cell_type": "code",
   "execution_count": 49,
   "id": "bb76cacc6f09f00d",
   "metadata": {
    "ExecuteTime": {
     "end_time": "2024-06-02T09:59:40.780009Z",
     "start_time": "2024-06-02T09:59:40.508084800Z"
    },
    "collapsed": false
   },
   "outputs": [],
   "source": [
    "# scaler.fit(tfidf_features)\n",
    "# tfidf_features = scaler.transform(tfidf_features).toarray()\n",
    "\n",
    "# scaler.fit(sentiment.reshape(-1, 1))\n",
    "# sentiment = scaler.transform(sentiment.reshape(-1, 1))\n",
    "\n",
    "# scaler.fit(word2vec_features)\n",
    "# word2vec_features = scaler.transform(word2vec_features)\n",
    "\n",
    "# scaler.fit(glove_features)\n",
    "# glove_features = scaler.transform(glove_features)\n",
    "\n",
    "# scaler.fit(ngram_matrix)\n",
    "# ngram_matrix = scaler.transform(ngram_matrix).toarray()\n",
    "\n",
    "#tfidf_features_valid = scaler.transform(tfidf_features_valid)\n",
    "# sentiment_valid = scaler.transform(sentiment_valid)\n",
    "# word2vec_features_valid = scaler.transform(word2vec_features_valid)\n",
    "# glove_features_valid = scaler.transform(glove_features_valid)\n",
    "# ngram_matrix_valid = scaler.transform(ngram_matrix_valid).toarray()"
   ]
  },
  {
   "cell_type": "code",
   "execution_count": 50,
   "id": "3b52774b409d833f",
   "metadata": {
    "ExecuteTime": {
     "end_time": "2024-06-02T10:02:17.494023700Z",
     "start_time": "2024-06-02T10:02:17.454577600Z"
    },
    "collapsed": false
   },
   "outputs": [
    {
     "data": {
      "text/plain": [
       "((1065, 5000), (1065, 1), (1065, 300), (1065, 300), (1065, 1000))"
      ]
     },
     "execution_count": 50,
     "metadata": {},
     "output_type": "execute_result"
    }
   ],
   "source": [
    "tfidf_features.shape, sentiment.shape, word2vec_features.shape, glove_features.shape, ngram_matrix.shape"
   ]
  },
  {
   "cell_type": "code",
   "execution_count": 51,
   "id": "7c9d5791cbc1106a",
   "metadata": {
    "ExecuteTime": {
     "end_time": "2024-06-02T10:02:18.258134600Z",
     "start_time": "2024-06-02T10:02:18.205932700Z"
    },
    "collapsed": false
   },
   "outputs": [
    {
     "data": {
      "text/plain": [
       "(numpy.ndarray, numpy.ndarray, numpy.ndarray, numpy.ndarray, numpy.ndarray)"
      ]
     },
     "execution_count": 51,
     "metadata": {},
     "output_type": "execute_result"
    }
   ],
   "source": [
    "type(tfidf_features), type(sentiment), type(word2vec_features), type(glove_features), type(ngram_matrix)"
   ]
  },
  {
   "cell_type": "markdown",
   "id": "527e86d7c809320c",
   "metadata": {
    "collapsed": false
   },
   "source": [
    "## Połączenie utworzonych feature"
   ]
  },
  {
   "cell_type": "code",
   "execution_count": 52,
   "id": "b61b5d072b93f811",
   "metadata": {
    "ExecuteTime": {
     "end_time": "2024-06-02T10:02:20.565911300Z",
     "start_time": "2024-06-02T10:02:20.514977900Z"
    },
    "collapsed": false
   },
   "outputs": [],
   "source": [
    "features = np.concatenate([tfidf_features, sentiment, word2vec_features, glove_features, ngram_matrix], axis=1)"
   ]
  },
  {
   "cell_type": "markdown",
   "id": "79e56938",
   "metadata": {},
   "source": [
    "<font color=\"red\">Zastanawiamy się, czy łączenie cech utworzonych różnymi metodami w jedną ramkę ma sens. Kolumny uzyskane metodą Tf-Idf niosą ze sobą znacznie mniejszą informację niż kolumny reprezentujące sentyment. Te pierwsze informują wyłącznie o pojedynczych wyrazach, a sentyment niesie informację o całym tekście. Naszym zdaniem warto zbudować oddzielne modele dla każdego z tych podejść i dopiero później porównywać uzyskane na nich wyniki.</font>"
   ]
  },
  {
   "cell_type": "code",
   "execution_count": 53,
   "id": "63fee3e27d198045",
   "metadata": {
    "ExecuteTime": {
     "end_time": "2024-06-02T10:02:21.380155400Z",
     "start_time": "2024-06-02T10:02:21.346692100Z"
    },
    "collapsed": false
   },
   "outputs": [
    {
     "data": {
      "text/plain": [
       "(1065, 6601)"
      ]
     },
     "execution_count": 53,
     "metadata": {},
     "output_type": "execute_result"
    }
   ],
   "source": [
    "features.shape"
   ]
  },
  {
   "cell_type": "markdown",
   "id": "13bb163c00c7211a",
   "metadata": {
    "collapsed": false
   },
   "source": [
    "Połączyliśmy wszystkie feature w jedną macierz, która będzie wykorzystana do stworzenia modelu. Mamy teraz 6301 kolumn, co oznacza, że dla każdego tekstu mamy 6301 wartości. Zostały one przeskalowane i gotowe do dalszej analizy."
   ]
  },
  {
   "cell_type": "markdown",
   "id": "5d32586b5fca49d8",
   "metadata": {
    "collapsed": false
   },
   "source": [
    "## PCA\n",
    "\n",
    "Aby zredukować wymiarowość danych, zastosujemy PCA. Pozwoli to na zmniejszenie ilości kolumn, co znacznie przyspieszy proces trenowania modelu. Zależy nam na wybraniu tych składowych, które wyjaśniają 80% wariancji."
   ]
  },
  {
   "cell_type": "code",
   "execution_count": 54,
   "id": "7d8c1d9cb68cda3e",
   "metadata": {
    "ExecuteTime": {
     "end_time": "2024-06-02T10:02:27.405994600Z",
     "start_time": "2024-06-02T10:02:23.650783Z"
    },
    "collapsed": false
   },
   "outputs": [
    {
     "data": {
      "image/png": "[encoded data removed]",
      "text/plain": [
       "<Figure size 432x288 with 1 Axes>"
      ]
     },
     "metadata": {
      "needs_background": "light"
     },
     "output_type": "display_data"
    }
   ],
   "source": [
    "pca = PCA()\n",
    "pca.fit(features)\n",
    "\n",
    "variance = pca.explained_variance_ratio_\n",
    "cumulative_variance = np.cumsum(variance)\n",
    "num_components = np.argmax(cumulative_variance >= 0.80) + 1\n",
    "\n",
    "plt.figure(figsize=(6, 4))\n",
    "plt.step(range(len(cumulative_variance)), cumulative_variance, where='mid', label='Skumulowana wyjaśniona wariancja')\n",
    "plt.axhline(y=0.80, color='r', linestyle='--', label='80% wyjaśniona wariancja')\n",
    "plt.axvline(x=num_components-1, color='g', linestyle='--', label=f'{num_components} składowych')\n",
    "plt.xlabel('Liczba składowych')\n",
    "plt.ylabel('Wyjaśniona wariancja')\n",
    "plt.legend(loc='best')\n",
    "plt.title('Wykres wyjaśnionej wariancji')\n",
    "plt.show()"
   ]
  },
  {
   "cell_type": "code",
   "execution_count": 55,
   "id": "4dd2d8cec91dc3de",
   "metadata": {
    "ExecuteTime": {
     "end_time": "2024-06-02T10:02:31.353834400Z",
     "start_time": "2024-06-02T10:02:27.410739700Z"
    },
    "collapsed": false
   },
   "outputs": [],
   "source": [
    "pca = PCA(n_components=num_components)\n",
    "pca = pca.fit(features)\n",
    "features_reduced = pca.transform(features)\n",
    "\n",
    "# features_reduced_valid = pca.transform(features_valid)"
   ]
  },
  {
   "cell_type": "code",
   "execution_count": 56,
   "id": "864bd7f185c499cc",
   "metadata": {
    "ExecuteTime": {
     "end_time": "2024-06-02T10:02:31.370839800Z",
     "start_time": "2024-06-02T10:02:31.357839700Z"
    },
    "collapsed": false
   },
   "outputs": [
    {
     "data": {
      "text/plain": [
       "(1065, 598)"
      ]
     },
     "execution_count": 56,
     "metadata": {},
     "output_type": "execute_result"
    }
   ],
   "source": [
    "features_reduced.shape"
   ]
  },
  {
   "cell_type": "markdown",
   "id": "edabd95f725370f2",
   "metadata": {
    "collapsed": false
   },
   "source": [
    "Po zastosowaniu PCA otrzymaliśmy 598 składowych, które wyjaśniają 80% wariancji. Zostały one przekształcone na macierz, która będzie wykorzystana jako feature do modelu."
   ]
  },
  {
   "cell_type": "markdown",
   "id": "1c99393709e202f6",
   "metadata": {
    "collapsed": false
   },
   "source": [
    "## Określenie liczby klastrów\n",
    "\n",
    "Teraz określimy optymalną liczbę klastrów korzystając z elbow method oraz silhouette score. Pierwsza metoda polega na wyznaczeniu punktu przegięcia na wykresie wariancji w zależności od liczby klastrów. Druga metoda polega na obliczeniu średniej odległości między klastrami."
   ]
  },
  {
   "cell_type": "code",
   "execution_count": 57,
   "id": "821a064f2273b5ff",
   "metadata": {
    "ExecuteTime": {
     "end_time": "2024-06-02T10:02:31.430854100Z",
     "start_time": "2024-06-02T10:02:31.377839300Z"
    },
    "collapsed": false
   },
   "outputs": [],
   "source": [
    "def optimal_number_of_clusters(matrix, max_k):\n",
    "    iters = range(2, max_k+1, 1)\n",
    "    sse = []\n",
    "    silhouette_scores = []\n",
    "    for k in iters:\n",
    "        model = KMeans(n_clusters=k, random_state=42)\n",
    "        model.fit(matrix)\n",
    "        sse.append(model.score(matrix) * -1)\n",
    "        score = silhouette_score(matrix, model.labels_)\n",
    "        silhouette_scores.append(score)\n",
    "\n",
    "    f, (ax1, ax2) = plt.subplots(1, 2, figsize=(12, 4))\n",
    "    ax1.plot(iters, sse, marker='o')\n",
    "    ax1.set_xlabel('Cluster Centers')\n",
    "    ax1.set_xticks(iters)\n",
    "    ax1.set_xticklabels(iters)\n",
    "    ax1.set_ylabel('SSE')\n",
    "    ax1.set_title('Elbow Method')\n",
    "\n",
    "    ax2.plot(iters, silhouette_scores, marker='o')\n",
    "    ax2.set_xlabel('Cluster Centers')\n",
    "    ax2.set_xticks(iters)\n",
    "    ax2.set_xticklabels(iters)\n",
    "    ax2.set_ylabel('Silhouette Score')\n",
    "    ax2.set_title('Silhouette Score')\n",
    "\n",
    "    plt.show()"
   ]
  },
  {
   "cell_type": "code",
   "execution_count": 41,
   "id": "9b0a412859ee43eb",
   "metadata": {
    "ExecuteTime": {
     "end_time": "2024-06-02T10:02:33.567507700Z",
     "start_time": "2024-06-02T10:02:31.389844500Z"
    },
    "collapsed": false
   },
   "outputs": [
    {
     "data": {
      "image/png": "[encoded data removed]",
      "text/plain": [
       "<Figure size 1200x400 with 2 Axes>"
      ]
     },
     "metadata": {},
     "output_type": "display_data"
    }
   ],
   "source": [
    "warnings.filterwarnings('ignore')\n",
    "optimal_number_of_clusters(features_reduced, 20)"
   ]
  },
  {
   "cell_type": "markdown",
   "id": "2fdd9d28",
   "metadata": {},
   "source": [
    "<font color=\"red\">Bardzo niepokojąco wygląda wykres dotyczący silhouette score. Wartości bliskie 0 sugerują, że coś z danymi jest nie tak. Wykres dla metody łokcia również w niewielkim stopniu przypomina rzeczywisty, modelowy łokieć. Przyczyną może być dużo składowych. Po redukcji danych do 400 wymiarów, nadal obserwujemy mało satysfakcjonujące wyniki.Może warto dokonać kolejnej redukcji danych, a przede wszystkim nie grupować wszystkich metod wykorzystanych w feature engineeringu w jeden zbiór. Może warto też spróbować innych metryk?</font>"
   ]
  },
  {
   "cell_type": "markdown",
   "id": "fde0b051e62ca236",
   "metadata": {
    "collapsed": false
   },
   "source": [
    "Jest to wstępna wersja analizy, która pozwala nam na określenie optymalnej liczby klastrów. Wykres wygląda dość nieoczekiwanie, jednak wydaje nam się że 6 klastrów będzie najlepszą opcją. Ewentualnie można rozważyć 8 klastrów. Dalej spróbujemy jeszcze raz przeprowadzić PCA aby dostać mniej składowych i zobaczyć czy wyniki się zmienią."
   ]
  },
  {
   "cell_type": "code",
   "execution_count": 58,
   "id": "e031713ef6aabe5a",
   "metadata": {
    "ExecuteTime": {
     "end_time": "2024-06-02T10:05:33.953691200Z",
     "start_time": "2024-06-02T10:05:30.586171500Z"
    },
    "collapsed": false
   },
   "outputs": [],
   "source": [
    "pca = PCA(n_components=400)\n",
    "pca = pca.fit(features)\n",
    "features_reduced2 = pca.transform(features)\n",
    "\n",
    "# features_reduced2_valid = pca.transform(features_valid)"
   ]
  },
  {
   "cell_type": "code",
   "execution_count": 59,
   "id": "a7738c4ec47e28d4",
   "metadata": {
    "ExecuteTime": {
     "end_time": "2024-06-02T10:06:00.897211400Z",
     "start_time": "2024-06-02T10:05:58.715173900Z"
    },
    "collapsed": false
   },
   "outputs": [
    {
     "data": {
      "image/png": "[encoded data removed]",
      "text/plain": [
       "<Figure size 864x288 with 2 Axes>"
      ]
     },
     "metadata": {
      "needs_background": "light"
     },
     "output_type": "display_data"
    }
   ],
   "source": [
    "optimal_number_of_clusters(features_reduced2, 20)"
   ]
  },
  {
   "cell_type": "markdown",
   "id": "6b7005facbcd9628",
   "metadata": {
    "collapsed": false
   },
   "source": [
    "Po przeprowadzeniu PCA z mniejszą ilością składowych, wykres wygląda bardziej sensownie. Ostatecznie wybierzemy 5 klastrów jako optymalną liczbę."
   ]
  },
  {
   "cell_type": "code",
   "execution_count": null,
   "id": "be34a550132940f2",
   "metadata": {
    "collapsed": false
   },
   "outputs": [],
   "source": []
  }
 ],
 "metadata": {
  "kernelspec": {
   "display_name": "Python 3",
   "language": "python",
   "name": "python3"
  },
  "language_info": {
   "codemirror_mode": {
    "name": "ipython",
    "version": 3
   },
   "file_extension": ".py",
   "mimetype": "text/x-python",
   "name": "python",
   "nbconvert_exporter": "python",
   "pygments_lexer": "ipython3",
   "version": "3.9.12"
  }
 },
 "nbformat": 4,
 "nbformat_minor": 5
}
